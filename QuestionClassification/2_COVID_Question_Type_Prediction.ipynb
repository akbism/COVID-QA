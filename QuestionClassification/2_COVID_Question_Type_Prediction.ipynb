{
  "nbformat": 4,
  "nbformat_minor": 0,
  "metadata": {
    "colab": {
      "name": "2_COVID_Question_Type_Prediction.ipynb",
      "provenance": [],
      "collapsed_sections": [],
      "machine_shape": "hm",
      "mount_file_id": "1HcurLPDkwNVa6DfWxTGzea0pnK-tQKLM",
      "authorship_tag": "ABX9TyPHL6k875BWspgIAI0xlQJj",
      "include_colab_link": true
    },
    "kernelspec": {
      "display_name": "Python 3",
      "name": "python3"
    },
    "language_info": {
      "name": "python"
    },
    "widgets": {
      "application/vnd.jupyter.widget-state+json": {
        "483bbfb5f7554a98a6a6d3c5081dd970": {
          "model_module": "@jupyter-widgets/controls",
          "model_name": "HBoxModel",
          "model_module_version": "1.5.0",
          "state": {
            "_dom_classes": [],
            "_model_module": "@jupyter-widgets/controls",
            "_model_module_version": "1.5.0",
            "_model_name": "HBoxModel",
            "_view_count": null,
            "_view_module": "@jupyter-widgets/controls",
            "_view_module_version": "1.5.0",
            "_view_name": "HBoxView",
            "box_style": "",
            "children": [
              "IPY_MODEL_205bab680a4a41b3976c7113e3663695",
              "IPY_MODEL_fe56dd50d7d7471fb2035031c547218c",
              "IPY_MODEL_382a7a82433a4c18ad9c0edba03f4c39"
            ],
            "layout": "IPY_MODEL_1f77a6fea7404ac8979dc5b036aa4c10"
          }
        },
        "205bab680a4a41b3976c7113e3663695": {
          "model_module": "@jupyter-widgets/controls",
          "model_name": "HTMLModel",
          "model_module_version": "1.5.0",
          "state": {
            "_dom_classes": [],
            "_model_module": "@jupyter-widgets/controls",
            "_model_module_version": "1.5.0",
            "_model_name": "HTMLModel",
            "_view_count": null,
            "_view_module": "@jupyter-widgets/controls",
            "_view_module_version": "1.5.0",
            "_view_name": "HTMLView",
            "description": "",
            "description_tooltip": null,
            "layout": "IPY_MODEL_b33156d9193c48a2a0735b8f4a240ba1",
            "placeholder": "​",
            "style": "IPY_MODEL_0762924fa77d4b1a8f3b4b09d802e4da",
            "value": "Downloading: 100%"
          }
        },
        "fe56dd50d7d7471fb2035031c547218c": {
          "model_module": "@jupyter-widgets/controls",
          "model_name": "FloatProgressModel",
          "model_module_version": "1.5.0",
          "state": {
            "_dom_classes": [],
            "_model_module": "@jupyter-widgets/controls",
            "_model_module_version": "1.5.0",
            "_model_name": "FloatProgressModel",
            "_view_count": null,
            "_view_module": "@jupyter-widgets/controls",
            "_view_module_version": "1.5.0",
            "_view_name": "ProgressView",
            "bar_style": "success",
            "description": "",
            "description_tooltip": null,
            "layout": "IPY_MODEL_de4a1f5510664641862c34e3dcfde1f6",
            "max": 231508,
            "min": 0,
            "orientation": "horizontal",
            "style": "IPY_MODEL_d16e274b30154563b9aafcc334e4a21a",
            "value": 231508
          }
        },
        "382a7a82433a4c18ad9c0edba03f4c39": {
          "model_module": "@jupyter-widgets/controls",
          "model_name": "HTMLModel",
          "model_module_version": "1.5.0",
          "state": {
            "_dom_classes": [],
            "_model_module": "@jupyter-widgets/controls",
            "_model_module_version": "1.5.0",
            "_model_name": "HTMLModel",
            "_view_count": null,
            "_view_module": "@jupyter-widgets/controls",
            "_view_module_version": "1.5.0",
            "_view_name": "HTMLView",
            "description": "",
            "description_tooltip": null,
            "layout": "IPY_MODEL_c87f4dafbcfb4f3ca67c9b996321365f",
            "placeholder": "​",
            "style": "IPY_MODEL_09c44cf4fbb448509f538d187e08a8b2",
            "value": " 232k/232k [00:00&lt;00:00, 1.95MB/s]"
          }
        },
        "1f77a6fea7404ac8979dc5b036aa4c10": {
          "model_module": "@jupyter-widgets/base",
          "model_name": "LayoutModel",
          "model_module_version": "1.2.0",
          "state": {
            "_model_module": "@jupyter-widgets/base",
            "_model_module_version": "1.2.0",
            "_model_name": "LayoutModel",
            "_view_count": null,
            "_view_module": "@jupyter-widgets/base",
            "_view_module_version": "1.2.0",
            "_view_name": "LayoutView",
            "align_content": null,
            "align_items": null,
            "align_self": null,
            "border": null,
            "bottom": null,
            "display": null,
            "flex": null,
            "flex_flow": null,
            "grid_area": null,
            "grid_auto_columns": null,
            "grid_auto_flow": null,
            "grid_auto_rows": null,
            "grid_column": null,
            "grid_gap": null,
            "grid_row": null,
            "grid_template_areas": null,
            "grid_template_columns": null,
            "grid_template_rows": null,
            "height": null,
            "justify_content": null,
            "justify_items": null,
            "left": null,
            "margin": null,
            "max_height": null,
            "max_width": null,
            "min_height": null,
            "min_width": null,
            "object_fit": null,
            "object_position": null,
            "order": null,
            "overflow": null,
            "overflow_x": null,
            "overflow_y": null,
            "padding": null,
            "right": null,
            "top": null,
            "visibility": null,
            "width": null
          }
        },
        "b33156d9193c48a2a0735b8f4a240ba1": {
          "model_module": "@jupyter-widgets/base",
          "model_name": "LayoutModel",
          "model_module_version": "1.2.0",
          "state": {
            "_model_module": "@jupyter-widgets/base",
            "_model_module_version": "1.2.0",
            "_model_name": "LayoutModel",
            "_view_count": null,
            "_view_module": "@jupyter-widgets/base",
            "_view_module_version": "1.2.0",
            "_view_name": "LayoutView",
            "align_content": null,
            "align_items": null,
            "align_self": null,
            "border": null,
            "bottom": null,
            "display": null,
            "flex": null,
            "flex_flow": null,
            "grid_area": null,
            "grid_auto_columns": null,
            "grid_auto_flow": null,
            "grid_auto_rows": null,
            "grid_column": null,
            "grid_gap": null,
            "grid_row": null,
            "grid_template_areas": null,
            "grid_template_columns": null,
            "grid_template_rows": null,
            "height": null,
            "justify_content": null,
            "justify_items": null,
            "left": null,
            "margin": null,
            "max_height": null,
            "max_width": null,
            "min_height": null,
            "min_width": null,
            "object_fit": null,
            "object_position": null,
            "order": null,
            "overflow": null,
            "overflow_x": null,
            "overflow_y": null,
            "padding": null,
            "right": null,
            "top": null,
            "visibility": null,
            "width": null
          }
        },
        "0762924fa77d4b1a8f3b4b09d802e4da": {
          "model_module": "@jupyter-widgets/controls",
          "model_name": "DescriptionStyleModel",
          "model_module_version": "1.5.0",
          "state": {
            "_model_module": "@jupyter-widgets/controls",
            "_model_module_version": "1.5.0",
            "_model_name": "DescriptionStyleModel",
            "_view_count": null,
            "_view_module": "@jupyter-widgets/base",
            "_view_module_version": "1.2.0",
            "_view_name": "StyleView",
            "description_width": ""
          }
        },
        "de4a1f5510664641862c34e3dcfde1f6": {
          "model_module": "@jupyter-widgets/base",
          "model_name": "LayoutModel",
          "model_module_version": "1.2.0",
          "state": {
            "_model_module": "@jupyter-widgets/base",
            "_model_module_version": "1.2.0",
            "_model_name": "LayoutModel",
            "_view_count": null,
            "_view_module": "@jupyter-widgets/base",
            "_view_module_version": "1.2.0",
            "_view_name": "LayoutView",
            "align_content": null,
            "align_items": null,
            "align_self": null,
            "border": null,
            "bottom": null,
            "display": null,
            "flex": null,
            "flex_flow": null,
            "grid_area": null,
            "grid_auto_columns": null,
            "grid_auto_flow": null,
            "grid_auto_rows": null,
            "grid_column": null,
            "grid_gap": null,
            "grid_row": null,
            "grid_template_areas": null,
            "grid_template_columns": null,
            "grid_template_rows": null,
            "height": null,
            "justify_content": null,
            "justify_items": null,
            "left": null,
            "margin": null,
            "max_height": null,
            "max_width": null,
            "min_height": null,
            "min_width": null,
            "object_fit": null,
            "object_position": null,
            "order": null,
            "overflow": null,
            "overflow_x": null,
            "overflow_y": null,
            "padding": null,
            "right": null,
            "top": null,
            "visibility": null,
            "width": null
          }
        },
        "d16e274b30154563b9aafcc334e4a21a": {
          "model_module": "@jupyter-widgets/controls",
          "model_name": "ProgressStyleModel",
          "model_module_version": "1.5.0",
          "state": {
            "_model_module": "@jupyter-widgets/controls",
            "_model_module_version": "1.5.0",
            "_model_name": "ProgressStyleModel",
            "_view_count": null,
            "_view_module": "@jupyter-widgets/base",
            "_view_module_version": "1.2.0",
            "_view_name": "StyleView",
            "bar_color": null,
            "description_width": ""
          }
        },
        "c87f4dafbcfb4f3ca67c9b996321365f": {
          "model_module": "@jupyter-widgets/base",
          "model_name": "LayoutModel",
          "model_module_version": "1.2.0",
          "state": {
            "_model_module": "@jupyter-widgets/base",
            "_model_module_version": "1.2.0",
            "_model_name": "LayoutModel",
            "_view_count": null,
            "_view_module": "@jupyter-widgets/base",
            "_view_module_version": "1.2.0",
            "_view_name": "LayoutView",
            "align_content": null,
            "align_items": null,
            "align_self": null,
            "border": null,
            "bottom": null,
            "display": null,
            "flex": null,
            "flex_flow": null,
            "grid_area": null,
            "grid_auto_columns": null,
            "grid_auto_flow": null,
            "grid_auto_rows": null,
            "grid_column": null,
            "grid_gap": null,
            "grid_row": null,
            "grid_template_areas": null,
            "grid_template_columns": null,
            "grid_template_rows": null,
            "height": null,
            "justify_content": null,
            "justify_items": null,
            "left": null,
            "margin": null,
            "max_height": null,
            "max_width": null,
            "min_height": null,
            "min_width": null,
            "object_fit": null,
            "object_position": null,
            "order": null,
            "overflow": null,
            "overflow_x": null,
            "overflow_y": null,
            "padding": null,
            "right": null,
            "top": null,
            "visibility": null,
            "width": null
          }
        },
        "09c44cf4fbb448509f538d187e08a8b2": {
          "model_module": "@jupyter-widgets/controls",
          "model_name": "DescriptionStyleModel",
          "model_module_version": "1.5.0",
          "state": {
            "_model_module": "@jupyter-widgets/controls",
            "_model_module_version": "1.5.0",
            "_model_name": "DescriptionStyleModel",
            "_view_count": null,
            "_view_module": "@jupyter-widgets/base",
            "_view_module_version": "1.2.0",
            "_view_name": "StyleView",
            "description_width": ""
          }
        }
      }
    }
  },
  "cells": [
    {
      "cell_type": "markdown",
      "metadata": {
        "id": "view-in-github",
        "colab_type": "text"
      },
      "source": [
        "<a href=\"https://colab.research.google.com/github/akbism/COVID-QA/blob/main/QuestionClassification/2_COVID_Question_Type_Prediction.ipynb\" target=\"_parent\"><img src=\"https://colab.research.google.com/assets/colab-badge.svg\" alt=\"Open In Colab\"/></a>"
      ]
    },
    {
      "cell_type": "markdown",
      "metadata": {
        "id": "l9bW-nCMkjfc"
      },
      "source": [
        "This script is for prediction of the question type of any question. "
      ]
    },
    {
      "cell_type": "markdown",
      "metadata": {
        "id": "Vuk39saNk0ba"
      },
      "source": [
        "#Setting up the google drive"
      ]
    },
    {
      "cell_type": "code",
      "metadata": {
        "colab": {
          "base_uri": "https://localhost:8080/"
        },
        "id": "rOEU7rqxmDCA",
        "outputId": "7652ab6b-afd4-47b1-b46b-5f00ca165955"
      },
      "source": [
        "from google.colab import drive\n",
        "drive.mount('/content/gdrive')\n",
        "%cd gdrive/My\\ Drive/Colab\\ Notebooks/LJMU/covidqa/biobert-pytorch\n",
        "!pip install transformers==3.0.0"
      ],
      "execution_count": null,
      "outputs": [
        {
          "name": "stdout",
          "output_type": "stream",
          "text": [
            "Mounted at /content/gdrive\n",
            "/content/gdrive/My Drive/Colab Notebooks/LJMU/covidqa/biobert-pytorch\n",
            "Collecting transformers==3.0.0\n",
            "  Downloading transformers-3.0.0-py3-none-any.whl (754 kB)\n",
            "\u001b[K     |████████████████████████████████| 754 kB 5.3 MB/s \n",
            "\u001b[?25hRequirement already satisfied: packaging in /usr/local/lib/python3.7/dist-packages (from transformers==3.0.0) (21.0)\n",
            "Collecting tokenizers==0.8.0-rc4\n",
            "  Downloading tokenizers-0.8.0rc4-cp37-cp37m-manylinux1_x86_64.whl (3.0 MB)\n",
            "\u001b[K     |████████████████████████████████| 3.0 MB 48.9 MB/s \n",
            "\u001b[?25hRequirement already satisfied: filelock in /usr/local/lib/python3.7/dist-packages (from transformers==3.0.0) (3.0.12)\n",
            "Requirement already satisfied: tqdm>=4.27 in /usr/local/lib/python3.7/dist-packages (from transformers==3.0.0) (4.62.0)\n",
            "Collecting sacremoses\n",
            "  Downloading sacremoses-0.0.45-py3-none-any.whl (895 kB)\n",
            "\u001b[K     |████████████████████████████████| 895 kB 73.1 MB/s \n",
            "\u001b[?25hRequirement already satisfied: numpy in /usr/local/lib/python3.7/dist-packages (from transformers==3.0.0) (1.19.5)\n",
            "Requirement already satisfied: regex!=2019.12.17 in /usr/local/lib/python3.7/dist-packages (from transformers==3.0.0) (2019.12.20)\n",
            "Requirement already satisfied: requests in /usr/local/lib/python3.7/dist-packages (from transformers==3.0.0) (2.23.0)\n",
            "Collecting sentencepiece\n",
            "  Downloading sentencepiece-0.1.96-cp37-cp37m-manylinux_2_17_x86_64.manylinux2014_x86_64.whl (1.2 MB)\n",
            "\u001b[K     |████████████████████████████████| 1.2 MB 62.9 MB/s \n",
            "\u001b[?25hRequirement already satisfied: pyparsing>=2.0.2 in /usr/local/lib/python3.7/dist-packages (from packaging->transformers==3.0.0) (2.4.7)\n",
            "Requirement already satisfied: certifi>=2017.4.17 in /usr/local/lib/python3.7/dist-packages (from requests->transformers==3.0.0) (2021.5.30)\n",
            "Requirement already satisfied: idna<3,>=2.5 in /usr/local/lib/python3.7/dist-packages (from requests->transformers==3.0.0) (2.10)\n",
            "Requirement already satisfied: urllib3!=1.25.0,!=1.25.1,<1.26,>=1.21.1 in /usr/local/lib/python3.7/dist-packages (from requests->transformers==3.0.0) (1.24.3)\n",
            "Requirement already satisfied: chardet<4,>=3.0.2 in /usr/local/lib/python3.7/dist-packages (from requests->transformers==3.0.0) (3.0.4)\n",
            "Requirement already satisfied: six in /usr/local/lib/python3.7/dist-packages (from sacremoses->transformers==3.0.0) (1.15.0)\n",
            "Requirement already satisfied: click in /usr/local/lib/python3.7/dist-packages (from sacremoses->transformers==3.0.0) (7.1.2)\n",
            "Requirement already satisfied: joblib in /usr/local/lib/python3.7/dist-packages (from sacremoses->transformers==3.0.0) (1.0.1)\n",
            "Installing collected packages: tokenizers, sentencepiece, sacremoses, transformers\n",
            "Successfully installed sacremoses-0.0.45 sentencepiece-0.1.96 tokenizers-0.8.0rc4 transformers-3.0.0\n"
          ]
        }
      ]
    },
    {
      "cell_type": "markdown",
      "metadata": {
        "id": "XdlisN-Zk36n"
      },
      "source": [
        "#Setting the parameters for prediction of the question type."
      ]
    },
    {
      "cell_type": "code",
      "metadata": {
        "id": "jvzbI3d0diIf"
      },
      "source": [
        "class Args:\n",
        "    model_type = 'bert'\n",
        "    model_name_or_path = 'bert-base-cased' #'dmis-lab/biobert-base-cased-v1.1-squad'\n",
        "    output_dir = './scripts/output'\n",
        "    golden_file = None\n",
        "    official_eval_dir = './scripts/squad_eval'\n",
        "    data_dir = '/content/gdrive/MyDrive/Colab Notebooks/LJMU/covidqa/biobert-pytorch/datasets/QA/SQuAD'\n",
        "    train_file = 'train-v2.0.json'\n",
        "    predict_file ='dev-v2.0.json'\n",
        "    \n",
        "    data_dir1 = '/content/gdrive/MyDrive/Colab Notebooks/LJMU/covidqa/biobert-pytorch/datasets/QA/BioASQ/BioASQ-678b'\n",
        "    train_file1 = 'BioASQ-train-factoid-6_8b-full-annotated.json'\n",
        "    predict_file1 ='BioASQ-train-factoid-7b-full-annotated.json'\n",
        "    \n",
        "    data_dir2 = '/content/gdrive/MyDrive/Colab Notebooks/LJMU/covidqa/biobert-pytorch/datasets/QA'\n",
        "    predict_file2 ='COVID-QA-Modified.json'\n",
        "\n",
        "    config_name =None\n",
        "    tokenizer_name =\"\"\n",
        "    cache_dir =None\n",
        "    version_2_with_negative =True\n",
        "    null_score_diff_threshold =0\n",
        "    max_seq_length =384\n",
        "    doc_stride =128\n",
        "    max_query_length =64\n",
        "    do_train = True\n",
        "    do_eval = True\n",
        "    evaluate_during_training = False\n",
        "    do_lower_case =True\n",
        "    per_gpu_train_batch_size=12\n",
        "    per_gpu_eval_batch_size=12\n",
        "    learning_rate=8e-6\n",
        "    gradient_accumulation_steps=1\n",
        "    weight_decay=0\n",
        "    adam_epsilon =1e-8\n",
        "    max_grad_norm = 1.0\n",
        "    num_train_epochs = 3.0\n",
        "    max_steps =-1\n",
        "    warmup_steps = 0 \n",
        "    n_best_size = 20\n",
        "    max_answer_length = 30 \n",
        "    verbose_logging= False\n",
        "    lang_id = 0\n",
        "    logging_steps=200\n",
        "    save_steps=200\n",
        "    eval_all_checkpoints = True\n",
        "    no_cuda = False \n",
        "    overwrite_output_dir = True\n",
        "    overwrite_cache = False\n",
        "    seed = 0\n",
        "    local_rank = -1\n",
        "    fp16 = False\n",
        "    fp16_opt_level= \"O1\"\n",
        "    server_ip=\"\"\n",
        "    server_port=\"\"\n",
        "    threads=1\n",
        "\n",
        "args=Args()"
      ],
      "execution_count": null,
      "outputs": []
    },
    {
      "cell_type": "code",
      "metadata": {
        "id": "uhIpOe4wgsu6"
      },
      "source": [
        "# coding=utf-8\n",
        "\"\"\" Finetuning the library models for question-answering on SQuAD (DistilBERT, Bert, XLM, XLNet).\"\"\"\n",
        "import argparse\n",
        "import glob\n",
        "import logging\n",
        "import os\n",
        "import random\n",
        "import timeit\n",
        "import json\n",
        "from pprint import pprint\n",
        "import numpy as np\n",
        "import torch\n",
        "from torch.utils.data import DataLoader, RandomSampler, SequentialSampler\n",
        "from torch.utils.data.distributed import DistributedSampler\n",
        "from torch.utils.data import TensorDataset\n",
        "from tqdm import tqdm, trange\n",
        "from transformers import BertForSequenceClassification\n",
        "from transformers import BertTokenizer\n",
        "\n",
        "from transformers import (\n",
        "    MODEL_FOR_QUESTION_ANSWERING_MAPPING,\n",
        "    WEIGHTS_NAME,\n",
        "    AdamW,\n",
        "    AutoConfig,\n",
        "    AutoModelForQuestionAnswering,\n",
        "    AutoTokenizer,\n",
        "    get_linear_schedule_with_warmup,\n",
        "    squad_convert_examples_to_features,\n",
        ")\n",
        "from transformers.data.metrics.squad_metrics import (\n",
        "    compute_predictions_log_probs,\n",
        "    compute_predictions_logits,\n",
        "    squad_evaluate,\n",
        ")\n",
        "from transformers.data.processors.squad import SquadResult, SquadV1Processor, SquadV2Processor\n",
        "\n",
        "\n",
        "try:\n",
        "    from torch.utils.tensorboard import SummaryWriter\n",
        "except ImportError:\n",
        "    from tensorboardX import SummaryWriter\n",
        "\n",
        "logger = logging.getLogger(__name__)\n",
        "\n",
        "MODEL_CONFIG_CLASSES = list(MODEL_FOR_QUESTION_ANSWERING_MAPPING.keys())\n",
        "MODEL_TYPES = tuple(conf.model_type for conf in MODEL_CONFIG_CLASSES)\n",
        "os.environ[\"TOKENIZERS_PARALLELISM\"] = \"false\"\n",
        "device = torch.device('cuda' if torch.cuda.is_available() else 'cpu')\n",
        "\n",
        "import json\n",
        "from pathlib import Path\n",
        "import os\n",
        "\n",
        "### Load the fine-tuned model\n",
        "model = BertForSequenceClassification.from_pretrained(\"question-classification/model/epoch2\")\n",
        "model.to(device)"
      ],
      "execution_count": null,
      "outputs": []
    },
    {
      "cell_type": "markdown",
      "metadata": {
        "id": "LuA0fz62nFva"
      },
      "source": [
        "#Defining data extraction and prediction functions"
      ]
    },
    {
      "cell_type": "code",
      "metadata": {
        "colab": {
          "base_uri": "https://localhost:8080/",
          "height": 124,
          "referenced_widgets": [
            "483bbfb5f7554a98a6a6d3c5081dd970",
            "205bab680a4a41b3976c7113e3663695",
            "fe56dd50d7d7471fb2035031c547218c",
            "382a7a82433a4c18ad9c0edba03f4c39",
            "1f77a6fea7404ac8979dc5b036aa4c10",
            "b33156d9193c48a2a0735b8f4a240ba1",
            "0762924fa77d4b1a8f3b4b09d802e4da",
            "de4a1f5510664641862c34e3dcfde1f6",
            "d16e274b30154563b9aafcc334e4a21a",
            "c87f4dafbcfb4f3ca67c9b996321365f",
            "09c44cf4fbb448509f538d187e08a8b2"
          ]
        },
        "id": "kGRLW5IGIHP7",
        "outputId": "f80088c2-6cec-4ef1-b211-72d009a942ea"
      },
      "source": [
        "def read_squad(path, is_training=True):\n",
        "    path = Path(path)\n",
        "    with open(path, 'rb') as f:\n",
        "        squad_dict = json.load(f)\n",
        "    ids = []\n",
        "    contexts = []\n",
        "    questions = []\n",
        "    answers = []\n",
        "    for group in squad_dict['data']:\n",
        "        for passage in group['paragraphs']:\n",
        "            context = passage['context']\n",
        "            for qa in passage['qas']:\n",
        "                question = qa['question']\n",
        "                id = qa['id']\n",
        "\n",
        "                is_impossible = qa.get(\"is_impossible\", False)\n",
        "                if not is_impossible:\n",
        "                    if is_training:\n",
        "                        answer = qa[\"answers\"][0]\n",
        "                        answer_text = answer[\"text\"]\n",
        "                        start_position_character = answer[\"answer_start\"]\n",
        "                    else:\n",
        "                        answers = qa[\"answers\"]\n",
        "                # for answer in qa['answers']:\n",
        "                contexts.append(context)\n",
        "                questions.append(question)\n",
        "                answers.append(answer)\n",
        "                ids.append(id)\n",
        "\n",
        "    return ids, contexts, questions, answers\n",
        "\n",
        "\n",
        "#### Prediction Function\n",
        "label_dict={'DESC': 0, 'ENTY': 1, 'ABBR': 2, 'HUM': 3, 'NUM': 4, 'LOC': 5}\n",
        "try:\n",
        "  tokenizer\n",
        "except:\n",
        "  tokenizer = BertTokenizer.from_pretrained('bert-base-uncased', \n",
        "                                          do_lower_case=True)\n",
        "else:\n",
        "  print('tokenizer found')\n",
        "\n",
        "def predict(test_question_series, model= model, batch_size = 3, label_dict=label_dict, tokenizer=tokenizer):\n",
        "\n",
        "    label_dict=  {v: k for k, v in label_dict.items()}\n",
        "\n",
        "    encoded_data_test = tokenizer.batch_encode_plus(\n",
        "      test_question_series.values, \n",
        "      add_special_tokens=True, \n",
        "      return_attention_mask=True, \n",
        "      pad_to_max_length=True, \n",
        "      max_length=256, \n",
        "      return_tensors='pt'\n",
        "    )\n",
        "    encoded_data_test=encoded_data_test.to(device)\n",
        "    input_ids_test = encoded_data_test['input_ids']\n",
        "    attention_masks_test = encoded_data_test['attention_mask']\n",
        "    dataset_test = TensorDataset(input_ids_test, attention_masks_test)\n",
        "    dataloader_test = DataLoader(dataset_test, \n",
        "                                  sampler=SequentialSampler(dataset_test), \n",
        "                                  batch_size=batch_size)\n",
        "    model.eval()\n",
        "    predictions = []   \n",
        "    for batch in dataloader_test:      \n",
        "        batch = tuple(b.to(device) for b in batch)        \n",
        "        inputs = {'input_ids':      batch[0],\n",
        "                  'attention_mask': batch[1]\n",
        "                 }\n",
        "        with torch.no_grad():        \n",
        "            outputs = model(**inputs)    \n",
        "        # import pdb\n",
        "        # pdb.set_trace()       \n",
        "        # logits = outputs['logits']\n",
        "        # logits = logits.detach().cpu().numpy()\n",
        "        logits = outputs[0].numpy()\n",
        "        predictions.append(logits)\n",
        "    predictions = np.concatenate(predictions, axis=0)\n",
        "    preds_flat = np.argmax(predictions, axis=1).flatten()\n",
        "    preds_final = np.vectorize(label_dict.get)(preds_flat)\n",
        "    return preds_final"
      ],
      "execution_count": null,
      "outputs": [
        {
          "name": "stderr",
          "output_type": "stream",
          "text": [
            "Some weights of the model checkpoint at question-classification/model/epoch2 were not used when initializing BertForSequenceClassification: ['bert.embeddings.position_ids']\n",
            "- This IS expected if you are initializing BertForSequenceClassification from the checkpoint of a model trained on another task or with another architecture (e.g. initializing a BertForSequenceClassification model from a BertForPretraining model).\n",
            "- This IS NOT expected if you are initializing BertForSequenceClassification from the checkpoint of a model that you expect to be exactly identical (initializing a BertForSequenceClassification model from a BertForSequenceClassification model).\n"
          ]
        },
        {
          "data": {
            "application/vnd.jupyter.widget-view+json": {
              "model_id": "483bbfb5f7554a98a6a6d3c5081dd970",
              "version_major": 2,
              "version_minor": 0
            },
            "text/plain": [
              "Downloading:   0%|          | 0.00/232k [00:00<?, ?B/s]"
            ]
          },
          "metadata": {},
          "output_type": "display_data"
        }
      ]
    },
    {
      "cell_type": "markdown",
      "metadata": {
        "id": "1XlGNGyfnO7l"
      },
      "source": [
        "# Prediction fo question types for SQuAD"
      ]
    },
    {
      "cell_type": "code",
      "metadata": {
        "colab": {
          "background_save": true,
          "base_uri": "https://localhost:8080/"
        },
        "id": "IrNdMlC80zXU",
        "outputId": "ec9fbac0-325f-4e32-d810-5e4d52f96f52"
      },
      "source": [
        "##### SQuAD\n",
        "import pandas as pd\n",
        "path= os.path. join(args.data_dir, args.train_file)\n",
        "train_ids,train_contexts, train_questions, train_answers = read_squad(path)\n",
        "path= os.path. join(args.data_dir, args.predict_file)\n",
        "val_ids,val_contexts, val_questions, val_answers = read_squad(path)\n",
        "\n",
        "\n",
        "val_qtype=predict(pd.Series(val_questions))\n",
        "train_qtype=predict(pd.Series(train_questions))\n",
        "\n",
        "with open('SQuAD_Q_Types_Val.pkl', 'wb') as fid:\n",
        "     pickle.dump(val_qtype, fid)\n",
        "with open('SQuAD_Q_Types_train.pkl', 'wb') as fid:\n",
        "     pickle.dump(train_qtype, fid)"
      ],
      "execution_count": null,
      "outputs": [
        {
          "name": "stderr",
          "output_type": "stream",
          "text": [
            "Truncation was not explicitely activated but `max_length` is provided a specific value, please use `truncation=True` to explicitely truncate examples to max length. Defaulting to 'only_first' truncation strategy. If you encode pairs of sequences (GLUE-style) with the tokenizer you may want to check this is the right behavior.\n",
            "Truncation was not explicitely activated but `max_length` is provided a specific value, please use `truncation=True` to explicitely truncate examples to max length. Defaulting to 'only_first' truncation strategy. If you encode pairs of sequences (GLUE-style) with the tokenizer you may want to check this is the right behavior.\n"
          ]
        }
      ]
    },
    {
      "cell_type": "markdown",
      "metadata": {
        "id": "GgL33wUznWbp"
      },
      "source": [
        "# Prediction fo question types for BioASQ"
      ]
    },
    {
      "cell_type": "code",
      "metadata": {
        "id": "JfkIAVwV2lix"
      },
      "source": [
        "##### BioASQ Question Type\n",
        "path= os.path. join(args.data_dir1, args.train_file1)\n",
        "train_ids, train_contexts, train_questions, train_answers = read_squad(path)\n",
        "path= os.path. join(args.data_dir1, args.predict_file1)\n",
        "val_ids, val_contexts, val_questions, val_answers = read_squad(path)\n",
        "\n",
        "\n",
        "val_qtype=predict(pd.Series(val_questions))\n",
        "with open('BioASQ_Q_Types_Val.pkl', 'wb') as fid:\n",
        "     pickle.dump(val_qtype, fid)\n",
        "\n",
        "\n",
        "train_qtype=predict(pd.Series(train_questions))\n",
        "with open('BioASQ_Q_Types_train.pkl', 'wb') as fid:\n",
        "     pickle.dump(train_qtype, fid)"
      ],
      "execution_count": null,
      "outputs": []
    },
    {
      "cell_type": "markdown",
      "metadata": {
        "id": "w01seJ_xnZ0a"
      },
      "source": [
        "# Prediction fo question types for COVID-QA"
      ]
    },
    {
      "cell_type": "code",
      "metadata": {
        "colab": {
          "base_uri": "https://localhost:8080/"
        },
        "id": "5Z_tM8FfT4Cc",
        "outputId": "b1e728a1-90ec-478a-8ccf-2e151cfa5ffc"
      },
      "source": [
        "##### COVID-QA Qustion Type\n",
        "path= os.path. join(args.data_dir2, args.predict_file2)\n",
        "val_ids, val_contexts, val_questions, val_answers = read_squad(path)\n",
        "val_ids = [str(x) for x in val_ids]\n",
        "val_qtype=predict(pd.Series(val_questions))\n",
        "covid_qtype = pd.DataFrame(zip(val_ids,val_qtype), columns = ['id', 'question_type'])"
      ],
      "execution_count": null,
      "outputs": [
        {
          "name": "stderr",
          "output_type": "stream",
          "text": [
            "Truncation was not explicitely activated but `max_length` is provided a specific value, please use `truncation=True` to explicitely truncate examples to max length. Defaulting to 'only_first' truncation strategy. If you encode pairs of sequences (GLUE-style) with the tokenizer you may want to check this is the right behavior.\n"
          ]
        }
      ]
    },
    {
      "cell_type": "code",
      "metadata": {
        "id": "g67yXsyN_Kvx"
      },
      "source": [
        "covid_qtype = pd.DataFrame(zip(val_ids,val_qtype), columns = ['id', 'question_type'])"
      ],
      "execution_count": null,
      "outputs": []
    },
    {
      "cell_type": "code",
      "metadata": {
        "colab": {
          "base_uri": "https://localhost:8080/"
        },
        "id": "IDj0zAeHJYu4",
        "outputId": "dcd7bc5c-158e-4c11-c2f1-f1db7e528189"
      },
      "source": [
        "val_atype=predict(pd.Series([x['text'] for x in val_answers]))"
      ],
      "execution_count": null,
      "outputs": [
        {
          "name": "stderr",
          "output_type": "stream",
          "text": [
            "Truncation was not explicitely activated but `max_length` is provided a specific value, please use `truncation=True` to explicitely truncate examples to max length. Defaulting to 'only_first' truncation strategy. If you encode pairs of sequences (GLUE-style) with the tokenizer you may want to check this is the right behavior.\n"
          ]
        }
      ]
    },
    {
      "cell_type": "code",
      "metadata": {
        "id": "s0PjGc0o2vde"
      },
      "source": [
        "import pickle \n",
        "with open('COVID-QA_Q_Types_Val.pkl', 'wb') as fid:\n",
        "     pickle.dump(covid_qtype, fid)"
      ],
      "execution_count": null,
      "outputs": []
    },
    {
      "cell_type": "markdown",
      "metadata": {
        "id": "4tbvmh2Dnh6K"
      },
      "source": [
        "# EDA and Visualization of Question types of the three datasets"
      ]
    },
    {
      "cell_type": "code",
      "metadata": {
        "colab": {
          "base_uri": "https://localhost:8080/",
          "height": 483
        },
        "id": "Y-nOqUg3vVHW",
        "outputId": "38b4e266-36df-4a8d-853f-b80186934e9d"
      },
      "source": [
        "import pickle\n",
        "from sortedcontainers import SortedList, SortedSet, SortedDict\n",
        "# Read the data from the file\n",
        "with open('SQuAD_Q_Types_train.pkl', 'rb') as fid:\n",
        "     train_qtype = pickle.load(fid)\n",
        "from collections import Counter\n",
        "train_qtype_summary = dict(SortedDict(Counter(train_qtype)))\n",
        "\n",
        "import matplotlib.pyplot as plt\n",
        "plt.bar(range(len(train_qtype_summary)), list(train_qtype_summary.values()), align='center')\n",
        "plt.xticks(range(len(train_qtype_summary)), list(train_qtype_summary.keys()))\n"
      ],
      "execution_count": null,
      "outputs": [
        {
          "data": {
            "text/plain": [
              "([<matplotlib.axis.XTick at 0x7f4ac5dea310>,\n",
              "  <matplotlib.axis.XTick at 0x7f4ac5dea2d0>,\n",
              "  <matplotlib.axis.XTick at 0x7f4ac5de8ed0>,\n",
              "  <matplotlib.axis.XTick at 0x7f4ac5d56110>,\n",
              "  <matplotlib.axis.XTick at 0x7f4ac5d56050>,\n",
              "  <matplotlib.axis.XTick at 0x7f4ac5d56ad0>],\n",
              " [Text(0, 0, 'ABBR'),\n",
              "  Text(0, 0, 'DESC'),\n",
              "  Text(0, 0, 'ENTY'),\n",
              "  Text(0, 0, 'HUM'),\n",
              "  Text(0, 0, 'LOC'),\n",
              "  Text(0, 0, 'NUM')])"
            ]
          },
          "execution_count": 7,
          "metadata": {
            "tags": []
          },
          "output_type": "execute_result"
        },
        {
          "data": {
            "image/png": "[encoded data removed]",
            "text/plain": [
              "<Figure size 432x288 with 1 Axes>"
            ]
          },
          "metadata": {
            "tags": []
          },
          "output_type": "display_data"
        }
      ]
    },
    {
      "cell_type": "code",
      "metadata": {
        "colab": {
          "base_uri": "https://localhost:8080/",
          "height": 477
        },
        "id": "CTHcKFHPuU5n",
        "outputId": "f24cb1d8-944a-4309-b315-d02095b3fb32"
      },
      "source": [
        "import pickle\n",
        "# Read the data from the file\n",
        "with open('SQuAD_Q_Types_Val.pkl', 'rb') as fid:\n",
        "     val_qtype = pickle.load(fid)\n",
        "from collections import Counter\n",
        "val_qtype_summary = dict(SortedDict(Counter(val_qtype)))\n",
        "\n",
        "import matplotlib.pyplot as plt\n",
        "plt.bar(range(len(val_qtype_summary)), list(val_qtype_summary.values()), align='center')\n",
        "plt.xticks(range(len(val_qtype_summary)), list(val_qtype_summary.keys()))"
      ],
      "execution_count": null,
      "outputs": [
        {
          "data": {
            "text/plain": [
              "([<matplotlib.axis.XTick at 0x7fade7c77b50>,\n",
              "  <matplotlib.axis.XTick at 0x7fade85fae10>,\n",
              "  <matplotlib.axis.XTick at 0x7fade8129b50>,\n",
              "  <matplotlib.axis.XTick at 0x7fade7b69e50>,\n",
              "  <matplotlib.axis.XTick at 0x7fade7b30410>,\n",
              "  <matplotlib.axis.XTick at 0x7fade7aff050>],\n",
              " [Text(0, 0, 'ABBR'),\n",
              "  Text(0, 0, 'DESC'),\n",
              "  Text(0, 0, 'ENTY'),\n",
              "  Text(0, 0, 'HUM'),\n",
              "  Text(0, 0, 'LOC'),\n",
              "  Text(0, 0, 'NUM')])"
            ]
          },
          "execution_count": 26,
          "metadata": {
            "tags": []
          },
          "output_type": "execute_result"
        },
        {
          "data": {
            "image/png": "[encoded data removed]",
            "text/plain": [
              "<Figure size 432x288 with 1 Axes>"
            ]
          },
          "metadata": {
            "tags": []
          },
          "output_type": "display_data"
        }
      ]
    },
    {
      "cell_type": "code",
      "metadata": {
        "colab": {
          "base_uri": "https://localhost:8080/",
          "height": 477
        },
        "id": "XoV399Sc_2Ap",
        "outputId": "5fd4d986-2cf1-404a-8e2d-b86a852b5a62"
      },
      "source": [
        "import pickle\n",
        "# Read the data from the file\n",
        "with open('BioASQ_Q_Types_train.pkl', 'rb') as fid:\n",
        "     train_qtype = pickle.load(fid)\n",
        "from collections import Counter\n",
        "train_qtype_summary = dict(SortedDict(Counter(train_qtype)))\n",
        "\n",
        "import matplotlib.pyplot as plt\n",
        "plt.bar(range(len(train_qtype_summary)), list(train_qtype_summary.values()), align='center')\n",
        "plt.xticks(range(len(train_qtype_summary)), list(train_qtype_summary.keys()))"
      ],
      "execution_count": null,
      "outputs": [
        {
          "data": {
            "text/plain": [
              "([<matplotlib.axis.XTick at 0x7fade9ceb510>,\n",
              "  <matplotlib.axis.XTick at 0x7fade9ea7810>,\n",
              "  <matplotlib.axis.XTick at 0x7fade9ea7410>,\n",
              "  <matplotlib.axis.XTick at 0x7fade9d30ed0>,\n",
              "  <matplotlib.axis.XTick at 0x7fade9bde610>,\n",
              "  <matplotlib.axis.XTick at 0x7fade9bdebd0>],\n",
              " [Text(0, 0, 'ABBR'),\n",
              "  Text(0, 0, 'DESC'),\n",
              "  Text(0, 0, 'ENTY'),\n",
              "  Text(0, 0, 'HUM'),\n",
              "  Text(0, 0, 'LOC'),\n",
              "  Text(0, 0, 'NUM')])"
            ]
          },
          "execution_count": 35,
          "metadata": {
            "tags": []
          },
          "output_type": "execute_result"
        },
        {
          "data": {
            "image/png": "[encoded data removed]",
            "text/plain": [
              "<Figure size 432x288 with 1 Axes>"
            ]
          },
          "metadata": {
            "tags": []
          },
          "output_type": "display_data"
        }
      ]
    },
    {
      "cell_type": "code",
      "metadata": {
        "colab": {
          "base_uri": "https://localhost:8080/",
          "height": 477
        },
        "id": "zr2O2pop_mEp",
        "outputId": "42caf934-1b61-4ae6-a64b-cee98a1cf59f"
      },
      "source": [
        "import pickle\n",
        "# Read the data from the file\n",
        "with open('BioASQ_Q_Types_Val.pkl', 'rb') as fid:\n",
        "     val_qtype = pickle.load(fid)\n",
        "from collections import Counter\n",
        "val_qtype_summary = dict(SortedDict(Counter(val_qtype)))\n",
        "\n",
        "import matplotlib.pyplot as plt\n",
        "plt.bar(range(len(val_qtype_summary)), list(val_qtype_summary.values()), align='center')\n",
        "plt.xticks(range(len(val_qtype_summary)), list(val_qtype_summary.keys()))"
      ],
      "execution_count": null,
      "outputs": [
        {
          "data": {
            "text/plain": [
              "([<matplotlib.axis.XTick at 0x7fade904ebd0>,\n",
              "  <matplotlib.axis.XTick at 0x7fade9ef60d0>,\n",
              "  <matplotlib.axis.XTick at 0x7fadea61fb10>,\n",
              "  <matplotlib.axis.XTick at 0x7fade9e5e090>,\n",
              "  <matplotlib.axis.XTick at 0x7fade9e5e810>,\n",
              "  <matplotlib.axis.XTick at 0x7fade9e5ee50>],\n",
              " [Text(0, 0, 'ABBR'),\n",
              "  Text(0, 0, 'DESC'),\n",
              "  Text(0, 0, 'ENTY'),\n",
              "  Text(0, 0, 'HUM'),\n",
              "  Text(0, 0, 'LOC'),\n",
              "  Text(0, 0, 'NUM')])"
            ]
          },
          "execution_count": 34,
          "metadata": {
            "tags": []
          },
          "output_type": "execute_result"
        },
        {
          "data": {
            "image/png": "[encoded data removed]",
            "text/plain": [
              "<Figure size 432x288 with 1 Axes>"
            ]
          },
          "metadata": {
            "tags": []
          },
          "output_type": "display_data"
        }
      ]
    },
    {
      "cell_type": "code",
      "metadata": {
        "id": "PuMMebOroiHu"
      },
      "source": [
        "##### BioASQ Question Type\n",
        "path= os.path. join(args.data_dir1, args.train_file1)\n",
        "train_contexts, train_questions, train_answers = read_squad(path)\n",
        "path= os.path. join(args.data_dir1, args.predict_file1)\n",
        "val_contexts, val_questions, val_answers = read_squad(path)"
      ],
      "execution_count": null,
      "outputs": []
    },
    {
      "cell_type": "code",
      "metadata": {
        "colab": {
          "base_uri": "https://localhost:8080/"
        },
        "id": "N_weTmhzojU1",
        "outputId": "51abaa9f-c5d8-439c-9975-96efd8a5b1f8"
      },
      "source": [
        "print(len(train_questions))\n",
        "print(len(train_qtype))\n"
      ],
      "execution_count": null,
      "outputs": [
        {
          "name": "stdout",
          "output_type": "stream",
          "text": [
            "14919\n",
            "14919\n"
          ]
        }
      ]
    },
    {
      "cell_type": "code",
      "metadata": {
        "id": "8nxrZIUZpY5Z"
      },
      "source": [
        "from itertools import compress\n",
        "set(list(compress(train_questions, [x=='ENTY'  for x in train_qtype])))"
      ],
      "execution_count": null,
      "outputs": []
    },
    {
      "cell_type": "code",
      "metadata": {
        "colab": {
          "base_uri": "https://localhost:8080/",
          "height": 483
        },
        "id": "-WHBftM1Aziz",
        "outputId": "6a70dddf-afc1-4612-de80-890f36aa80a9"
      },
      "source": [
        "import pickle\n",
        "from sortedcontainers import SortedList, SortedSet, SortedDict\n",
        "# Read the data from the file\n",
        "with open('COVID-QA_Q_Types_Val.pkl', 'rb') as fid:\n",
        "     val_qtype = pickle.load(fid)\n",
        "from collections import Counter\n",
        "val_qtype_summary = dict(SortedDict(Counter(val_qtype)))\n",
        "\n",
        "import matplotlib.pyplot as plt\n",
        "plt.bar(range(len(val_qtype_summary)), list(val_qtype_summary.values()), align='center')\n",
        "plt.xticks(range(len(val_qtype_summary)), list(val_qtype_summary.keys()))"
      ],
      "execution_count": null,
      "outputs": [
        {
          "data": {
            "text/plain": [
              "([<matplotlib.axis.XTick at 0x7fb967c6ef90>,\n",
              "  <matplotlib.axis.XTick at 0x7fb961ac3410>,\n",
              "  <matplotlib.axis.XTick at 0x7fb961abef50>,\n",
              "  <matplotlib.axis.XTick at 0x7fb961a2c0d0>,\n",
              "  <matplotlib.axis.XTick at 0x7fb961a2c690>,\n",
              "  <matplotlib.axis.XTick at 0x7fb961a2cbd0>],\n",
              " [Text(0, 0, 'ABBR'),\n",
              "  Text(0, 0, 'DESC'),\n",
              "  Text(0, 0, 'ENTY'),\n",
              "  Text(0, 0, 'HUM'),\n",
              "  Text(0, 0, 'LOC'),\n",
              "  Text(0, 0, 'NUM')])"
            ]
          },
          "execution_count": 5,
          "metadata": {
            "tags": []
          },
          "output_type": "execute_result"
        },
        {
          "data": {
            "image/png": "[encoded data removed]",
            "text/plain": [
              "<Figure size 432x288 with 1 Axes>"
            ]
          },
          "metadata": {
            "tags": []
          },
          "output_type": "display_data"
        }
      ]
    },
    {
      "cell_type": "code",
      "metadata": {
        "id": "rGCpCGwgnE0W"
      },
      "source": [
        "##### COVID-QA Qustion Type\n",
        "path= os.path. join(args.data_dir2, args.predict_file2)\n",
        "val_contexts, val_questions, val_answers = read_squad(path)\n",
        "set(list(compress(val_questions, [x=='NUM'  for x in val_qtype])))"
      ],
      "execution_count": null,
      "outputs": []
    },
    {
      "cell_type": "code",
      "metadata": {
        "id": "ZDxQ8D5K1CTj"
      },
      "source": [
        "import pickle"
      ],
      "execution_count": null,
      "outputs": []
    },
    {
      "cell_type": "code",
      "metadata": {
        "id": "I7OzOY7xtxn8"
      },
      "source": [
        "with open('SQuAD_Q_Types_train.pkl', 'rb') as fid:\n",
        "     train_qtype0 = pickle.load(fid)\n",
        "with open('BioASQ_Q_Types_train.pkl', 'rb') as fid:\n",
        "     train_qtype1 = pickle.load(fid)\n",
        "with open('COVID-QA_Q_Types_Val.pkl', 'rb') as fid:\n",
        "     val_qtype2 = pickle.load(fid)\n",
        "\n"
      ],
      "execution_count": null,
      "outputs": []
    },
    {
      "cell_type": "code",
      "metadata": {
        "id": "46whWGIUudA9"
      },
      "source": [
        "train_qtype0= [(x,\"SQuAD (Train)\") for x in train_qtype0]\n",
        "train_qtype1= [(x,\"BioASQ (6B & 8B)\") for x in train_qtype1]\n",
        "val_qtype2= [(x,\"COVID-QA\") for x in val_qtype2]\n",
        "\n",
        "import pandas as pd\n",
        "import numpy as np\n",
        "qtype=pd.DataFrame(train_qtype0 + train_qtype1 + val_qtype2, columns = ['Question Type', 'Dataset'])\n",
        "qtype['count']=1\n",
        "qtype=np.around(qtype.groupby(['Dataset','Question Type']).sum('count')/qtype.groupby(['Dataset']).sum('count'),3)*100\n",
        "qtype = pd.pivot_table(qtype.reset_index(), index='Dataset', columns='Question Type', values='count', aggfunc=np.mean)#.reset_index()"
      ],
      "execution_count": null,
      "outputs": []
    },
    {
      "cell_type": "code",
      "metadata": {
        "colab": {
          "base_uri": "https://localhost:8080/",
          "height": 175
        },
        "id": "-kwIeJKP0lSJ",
        "outputId": "26c347ec-4b5d-40c4-c2f5-0b6c717227e8"
      },
      "source": [
        "qtype"
      ],
      "execution_count": null,
      "outputs": [
        {
          "data": {
            "text/html": [
              "<div>\n",
              "<style scoped>\n",
              "    .dataframe tbody tr th:only-of-type {\n",
              "        vertical-align: middle;\n",
              "    }\n",
              "\n",
              "    .dataframe tbody tr th {\n",
              "        vertical-align: top;\n",
              "    }\n",
              "\n",
              "    .dataframe thead th {\n",
              "        text-align: right;\n",
              "    }\n",
              "</style>\n",
              "<table border=\"1\" class=\"dataframe\">\n",
              "  <thead>\n",
              "    <tr style=\"text-align: right;\">\n",
              "      <th>Question Type</th>\n",
              "      <th>ABBR</th>\n",
              "      <th>DESC</th>\n",
              "      <th>ENTY</th>\n",
              "      <th>HUM</th>\n",
              "      <th>LOC</th>\n",
              "      <th>NUM</th>\n",
              "    </tr>\n",
              "    <tr>\n",
              "      <th>Dataset</th>\n",
              "      <th></th>\n",
              "      <th></th>\n",
              "      <th></th>\n",
              "      <th></th>\n",
              "      <th></th>\n",
              "      <th></th>\n",
              "    </tr>\n",
              "  </thead>\n",
              "  <tbody>\n",
              "    <tr>\n",
              "      <th>BioASQ (6B &amp; 8B)</th>\n",
              "      <td>0.2</td>\n",
              "      <td>9.2</td>\n",
              "      <td>83.0</td>\n",
              "      <td>2.9</td>\n",
              "      <td>2.2</td>\n",
              "      <td>2.5</td>\n",
              "    </tr>\n",
              "    <tr>\n",
              "      <th>COVID-QA</th>\n",
              "      <td>0.1</td>\n",
              "      <td>48.2</td>\n",
              "      <td>28.3</td>\n",
              "      <td>1.9</td>\n",
              "      <td>3.5</td>\n",
              "      <td>18.0</td>\n",
              "    </tr>\n",
              "    <tr>\n",
              "      <th>SQuAD (Train)</th>\n",
              "      <td>0.4</td>\n",
              "      <td>15.3</td>\n",
              "      <td>28.3</td>\n",
              "      <td>20.7</td>\n",
              "      <td>11.5</td>\n",
              "      <td>23.8</td>\n",
              "    </tr>\n",
              "  </tbody>\n",
              "</table>\n",
              "</div>"
            ],
            "text/plain": [
              "Question Type     ABBR  DESC  ENTY   HUM   LOC   NUM\n",
              "Dataset                                             \n",
              "BioASQ (6B & 8B)   0.2   9.2  83.0   2.9   2.2   2.5\n",
              "COVID-QA           0.1  48.2  28.3   1.9   3.5  18.0\n",
              "SQuAD (Train)      0.4  15.3  28.3  20.7  11.5  23.8"
            ]
          },
          "execution_count": 20,
          "metadata": {
            "tags": []
          },
          "output_type": "execute_result"
        }
      ]
    },
    {
      "cell_type": "code",
      "metadata": {
        "colab": {
          "base_uri": "https://localhost:8080/",
          "height": 295
        },
        "id": "CcNo3Js5wF3c",
        "outputId": "26895aa9-c49d-4f5c-c37a-ede4841ad62a"
      },
      "source": [
        "import matplotlib.pyplot as plt\n",
        "import seaborn as sns\n",
        "\n",
        "ax = plt.axes()\n",
        "sns.heatmap(qtype,cmap=\"YlGnBu\", annot=True)\n",
        "ax.set_title('Question types % distribution in the datasets')\n",
        "plt.show()"
      ],
      "execution_count": null,
      "outputs": [
        {
          "data": {
            "image/png": "[encoded data removed]",
            "text/plain": [
              "<Figure size 432x288 with 2 Axes>"
            ]
          },
          "metadata": {
            "tags": []
          },
          "output_type": "display_data"
        }
      ]
    },
    {
      "cell_type": "code",
      "metadata": {
        "id": "nbsLnoE-wHhH"
      },
      "source": [
        "import seaborn as sns\n",
        "\n",
        "sea = sns.FacetGrid(qtype, col = \"Dataset\")\n",
        "# map the above form facetgrid with some attributes   \n",
        "sea.map(sns.distplot, 'Question Type',)\n"
      ],
      "execution_count": null,
      "outputs": []
    }
  ]
}